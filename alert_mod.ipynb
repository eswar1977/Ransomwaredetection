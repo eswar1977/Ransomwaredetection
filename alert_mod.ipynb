{
 "cells": [
  {
   "cell_type": "code",
   "execution_count": 1,
   "id": "4f0b8f52",
   "metadata": {},
   "outputs": [
    {
     "name": "stderr",
     "output_type": "stream",
     "text": [
      "WARNING: Ignoring invalid distribution -pencv-python (c:\\users\\vc\\appdata\\roaming\\python\\python36\\site-packages)\n",
      "WARNING: Ignoring invalid distribution -rotobuf (c:\\users\\vc\\appdata\\local\\programs\\python\\python36\\lib\\site-packages)\n",
      "WARNING: Ignoring invalid distribution -pencv-contrib-python (c:\\users\\vc\\appdata\\local\\programs\\python\\python36\\lib\\site-packages)\n",
      "WARNING: Ignoring invalid distribution -illow (c:\\users\\vc\\appdata\\local\\programs\\python\\python36\\lib\\site-packages)\n",
      "WARNING: Ignoring invalid distribution - (c:\\users\\vc\\appdata\\local\\programs\\python\\python36\\lib\\site-packages)\n",
      "WARNING: Ignoring invalid distribution -pencv-python (c:\\users\\vc\\appdata\\roaming\\python\\python36\\site-packages)\n",
      "WARNING: Ignoring invalid distribution -rotobuf (c:\\users\\vc\\appdata\\local\\programs\\python\\python36\\lib\\site-packages)\n",
      "WARNING: Ignoring invalid distribution -pencv-contrib-python (c:\\users\\vc\\appdata\\local\\programs\\python\\python36\\lib\\site-packages)\n",
      "WARNING: Ignoring invalid distribution -illow (c:\\users\\vc\\appdata\\local\\programs\\python\\python36\\lib\\site-packages)\n",
      "WARNING: Ignoring invalid distribution - (c:\\users\\vc\\appdata\\local\\programs\\python\\python36\\lib\\site-packages)\n",
      "WARNING: Ignoring invalid distribution -pencv-python (c:\\users\\vc\\appdata\\roaming\\python\\python36\\site-packages)\n",
      "WARNING: Ignoring invalid distribution -rotobuf (c:\\users\\vc\\appdata\\local\\programs\\python\\python36\\lib\\site-packages)\n",
      "WARNING: Ignoring invalid distribution -pencv-contrib-python (c:\\users\\vc\\appdata\\local\\programs\\python\\python36\\lib\\site-packages)\n",
      "WARNING: Ignoring invalid distribution -illow (c:\\users\\vc\\appdata\\local\\programs\\python\\python36\\lib\\site-packages)\n",
      "WARNING: Ignoring invalid distribution - (c:\\users\\vc\\appdata\\local\\programs\\python\\python36\\lib\\site-packages)\n"
     ]
    },
    {
     "name": "stdout",
     "output_type": "stream",
     "text": [
      "Requirement already satisfied: faker in c:\\users\\vc\\appdata\\local\\programs\\python\\python36\\lib\\site-packages (14.2.1)\n",
      "Requirement already satisfied: python-dateutil>=2.4 in c:\\users\\vc\\appdata\\local\\programs\\python\\python36\\lib\\site-packages (from faker) (2.8.2)\n",
      "Requirement already satisfied: typing-extensions>=3.7.4.3 in c:\\users\\vc\\appdata\\local\\programs\\python\\python36\\lib\\site-packages (from faker) (3.7.4.3)\n",
      "Requirement already satisfied: six>=1.5 in c:\\users\\vc\\appdata\\local\\programs\\python\\python36\\lib\\site-packages (from python-dateutil>=2.4->faker) (1.15.0)\n"
     ]
    },
    {
     "name": "stderr",
     "output_type": "stream",
     "text": [
      "WARNING: Ignoring invalid distribution -pencv-python (c:\\users\\vc\\appdata\\roaming\\python\\python36\\site-packages)\n",
      "WARNING: Ignoring invalid distribution -rotobuf (c:\\users\\vc\\appdata\\local\\programs\\python\\python36\\lib\\site-packages)\n",
      "WARNING: Ignoring invalid distribution -pencv-contrib-python (c:\\users\\vc\\appdata\\local\\programs\\python\\python36\\lib\\site-packages)\n",
      "WARNING: Ignoring invalid distribution -illow (c:\\users\\vc\\appdata\\local\\programs\\python\\python36\\lib\\site-packages)\n",
      "WARNING: Ignoring invalid distribution - (c:\\users\\vc\\appdata\\local\\programs\\python\\python36\\lib\\site-packages)\n",
      "WARNING: Ignoring invalid distribution -pencv-python (c:\\users\\vc\\appdata\\roaming\\python\\python36\\site-packages)\n",
      "WARNING: Ignoring invalid distribution -rotobuf (c:\\users\\vc\\appdata\\local\\programs\\python\\python36\\lib\\site-packages)\n",
      "WARNING: Ignoring invalid distribution -pencv-contrib-python (c:\\users\\vc\\appdata\\local\\programs\\python\\python36\\lib\\site-packages)\n",
      "WARNING: Ignoring invalid distribution -illow (c:\\users\\vc\\appdata\\local\\programs\\python\\python36\\lib\\site-packages)\n",
      "WARNING: Ignoring invalid distribution - (c:\\users\\vc\\appdata\\local\\programs\\python\\python36\\lib\\site-packages)\n"
     ]
    },
    {
     "name": "stdout",
     "output_type": "stream",
     "text": [
      "Requirement already satisfied: watchdog in c:\\users\\vc\\appdata\\local\\programs\\python\\python36\\lib\\site-packages (2.2.0)\n"
     ]
    },
    {
     "name": "stderr",
     "output_type": "stream",
     "text": [
      "WARNING: Ignoring invalid distribution -pencv-python (c:\\users\\vc\\appdata\\roaming\\python\\python36\\site-packages)\n",
      "WARNING: Ignoring invalid distribution -rotobuf (c:\\users\\vc\\appdata\\local\\programs\\python\\python36\\lib\\site-packages)\n",
      "WARNING: Ignoring invalid distribution -pencv-contrib-python (c:\\users\\vc\\appdata\\local\\programs\\python\\python36\\lib\\site-packages)\n",
      "WARNING: Ignoring invalid distribution -illow (c:\\users\\vc\\appdata\\local\\programs\\python\\python36\\lib\\site-packages)\n",
      "WARNING: Ignoring invalid distribution - (c:\\users\\vc\\appdata\\local\\programs\\python\\python36\\lib\\site-packages)\n",
      "WARNING: Ignoring invalid distribution -pencv-python (c:\\users\\vc\\appdata\\roaming\\python\\python36\\site-packages)\n",
      "WARNING: Ignoring invalid distribution -rotobuf (c:\\users\\vc\\appdata\\local\\programs\\python\\python36\\lib\\site-packages)\n",
      "WARNING: Ignoring invalid distribution -pencv-contrib-python (c:\\users\\vc\\appdata\\local\\programs\\python\\python36\\lib\\site-packages)\n",
      "WARNING: Ignoring invalid distribution -illow (c:\\users\\vc\\appdata\\local\\programs\\python\\python36\\lib\\site-packages)\n",
      "WARNING: Ignoring invalid distribution - (c:\\users\\vc\\appdata\\local\\programs\\python\\python36\\lib\\site-packages)\n",
      "WARNING: Ignoring invalid distribution -pencv-python (c:\\users\\vc\\appdata\\roaming\\python\\python36\\site-packages)\n",
      "WARNING: Ignoring invalid distribution -rotobuf (c:\\users\\vc\\appdata\\local\\programs\\python\\python36\\lib\\site-packages)\n",
      "WARNING: Ignoring invalid distribution -pencv-contrib-python (c:\\users\\vc\\appdata\\local\\programs\\python\\python36\\lib\\site-packages)\n",
      "WARNING: Ignoring invalid distribution -illow (c:\\users\\vc\\appdata\\local\\programs\\python\\python36\\lib\\site-packages)\n",
      "WARNING: Ignoring invalid distribution - (c:\\users\\vc\\appdata\\local\\programs\\python\\python36\\lib\\site-packages)\n",
      "WARNING: Ignoring invalid distribution -pencv-python (c:\\users\\vc\\appdata\\roaming\\python\\python36\\site-packages)\n",
      "WARNING: Ignoring invalid distribution -rotobuf (c:\\users\\vc\\appdata\\local\\programs\\python\\python36\\lib\\site-packages)\n",
      "WARNING: Ignoring invalid distribution -pencv-contrib-python (c:\\users\\vc\\appdata\\local\\programs\\python\\python36\\lib\\site-packages)\n",
      "WARNING: Ignoring invalid distribution -illow (c:\\users\\vc\\appdata\\local\\programs\\python\\python36\\lib\\site-packages)\n",
      "WARNING: Ignoring invalid distribution - (c:\\users\\vc\\appdata\\local\\programs\\python\\python36\\lib\\site-packages)\n",
      "WARNING: Ignoring invalid distribution -pencv-python (c:\\users\\vc\\appdata\\roaming\\python\\python36\\site-packages)\n",
      "WARNING: Ignoring invalid distribution -rotobuf (c:\\users\\vc\\appdata\\local\\programs\\python\\python36\\lib\\site-packages)\n",
      "WARNING: Ignoring invalid distribution -pencv-contrib-python (c:\\users\\vc\\appdata\\local\\programs\\python\\python36\\lib\\site-packages)\n",
      "WARNING: Ignoring invalid distribution -illow (c:\\users\\vc\\appdata\\local\\programs\\python\\python36\\lib\\site-packages)\n",
      "WARNING: Ignoring invalid distribution - (c:\\users\\vc\\appdata\\local\\programs\\python\\python36\\lib\\site-packages)\n"
     ]
    }
   ],
   "source": [
    "# !pip install faker\n",
    "# !pip install watchdog\n",
    "import os\n",
    "import random\n",
    "from faker import Faker\n",
    "\n",
    "import numpy as np\n",
    "import pandas as pd\n",
    "\n",
    "fake = Faker()\n",
    "# file_path='C:\\\\Users\\\\HP\\\\Desktop\\\\Decoy Project\\\\ransomeware\\\\decoy'\n",
    "file_path='D:\\\\sigpro\\\\ransomeware\\\\decoy'\n",
    "def create_decoy_file():\n",
    "    with open(file_path, 'wb+') as file:\n",
    "        file.write(fake.text())\n",
    "\n",
    "\n",
    "        \n",
    "# file_path = 'C:\\\\Users\\\\HP\\\\Desktop\\\\Decoy Project\\\\ransomeware\\\\decoy'\n",
    "file_path='D:\\\\sigpro\\\\ransomeware\\\\decoy'\n",
    "num_files = 10  \n",
    "fake = Faker()\n",
    "\n",
    "def create_decoy_file(file_name):\n",
    "    full_path = os.path.join(file_path, file_name)\n",
    "    with open(full_path, 'wb+') as file:\n",
    "        file.write(fake.text().encode('utf-8'))\n",
    "\n",
    "def fake_decoy():\n",
    "    for i in range(1, num_files + 1):\n",
    "        file_name = f\"decoy_file_{i}.txt\"\n",
    "        create_decoy_file(file_name)\n",
    "        print(f\"Created: {file_name}\")\n",
    "        \n",
    "        \n",
    "        \n",
    "\n",
    "def send_alert(sub,content):\n",
    "    import smtplib\n",
    "    from email.mime.multipart import MIMEMultipart\n",
    "    from email.mime.text import MIMEText\n",
    "    from email.mime.base import MIMEBase\n",
    "    from email import encoders\n",
    "\n",
    "    fromaddr = \"raghurio1998@gmail.com\"\n",
    "    toaddr = \"raghurio1998@gmail.com\"\n",
    "    msg = MIMEMultipart()\n",
    "\n",
    "    msg['From'] = fromaddr\n",
    "\n",
    "    msg['To'] = \"raghurio1998@gmail.com\"\n",
    "\n",
    "    msg['Subject'] = sub\n",
    "\n",
    "    body =content\n",
    "\n",
    "    msg.attach(MIMEText(body, 'plain'))\n",
    "\n",
    "    \n",
    "\n",
    "    s = smtplib.SMTP('smtp.gmail.com', 587)\n",
    "\n",
    "\n",
    "    s.starttls()\n",
    "\n",
    "\n",
    "    s.login(fromaddr, \"fnwk brlr xvbs uuml\")\n",
    "\n",
    "\n",
    "    text = msg.as_string()\n",
    "\n",
    "\n",
    "    s.sendmail(fromaddr, toaddr, text)\n",
    "\n",
    "\n",
    "    s.quit()\n"
   ]
  },
  {
   "cell_type": "code",
   "execution_count": 2,
   "id": "10464b87",
   "metadata": {},
   "outputs": [
    {
     "name": "stdout",
     "output_type": "stream",
     "text": [
      "Ransomeare detected\n",
      "Created: decoy_file_1.txt\n",
      "Created: decoy_file_2.txt\n",
      "Created: decoy_file_3.txt\n",
      "Created: decoy_file_4.txt\n",
      "Created: decoy_file_5.txt\n",
      "Created: decoy_file_6.txt\n",
      "Created: decoy_file_7.txt\n",
      "Created: decoy_file_8.txt\n",
      "Created: decoy_file_9.txt\n",
      "Created: decoy_file_10.txt\n"
     ]
    }
   ],
   "source": [
    "import pickle\n",
    "f=open('model.pkl','rb')\n",
    "model=pickle.load(f)\n",
    "\n",
    "\n",
    "def prediction(input):\n",
    "    pred=model.predict(input)\n",
    "    if pred[0]==1:\n",
    "        print(\"Ransomeare detected\")\n",
    "        fake_decoy()\n",
    "        send_alert(\"Alert !! - Ransomware Attack\",\"A Ransomware attack has been initiated by someone\")\n",
    "        return 1\n",
    "    else:\n",
    "        print(\"Normal\")\n",
    "        return 0\n",
    "\n",
    "\n",
    "pred=prediction([[8.793691e+12, 16, 6.215174, 6, 920, 262144, 8226, 35840, 5, 1, 2, 3.557011, 0, 77824]])"
   ]
  },
  {
   "cell_type": "code",
   "execution_count": 3,
   "id": "c3031ce7",
   "metadata": {},
   "outputs": [],
   "source": [
    "pred=model.predict([[4194304.0, 23, 7.998828, 4, 48, 1048576, 258, 306688, 4, 6, 2, 2.146071, 12288, 335872]])"
   ]
  },
  {
   "cell_type": "code",
   "execution_count": 4,
   "id": "8b01f8b7",
   "metadata": {},
   "outputs": [
    {
     "name": "stdout",
     "output_type": "stream",
     "text": [
      "Decoy file deleted: D:\\sigpro\\ransomeware\\decoy\\decoy_file_10.txt\n"
     ]
    }
   ],
   "source": [
    "import os\n",
    "from watchdog.observers import Observer\n",
    "from watchdog.events import FileSystemEventHandler\n",
    "import smtplib\n",
    "from email.mime.text import MIMEText\n",
    "\n",
    "# DECoy_DIRECTORY = 'C:\\\\Users\\\\HP\\\\Desktop\\\\Decoy Project\\\\ransomeware\\\\decoy'\n",
    "DECoy_DIRECTORY='D:\\\\sigpro\\\\ransomeware\\\\decoy'\n",
    "\n",
    "\n",
    "\n",
    "class DecoyFileEventHandler(FileSystemEventHandler):\n",
    "    def __init__(self, observer):\n",
    "        self.observer = observer\n",
    "\n",
    "    def on_modified(self, event):\n",
    "        if event.src_path.startswith(DECoy_DIRECTORY):\n",
    "            \n",
    "            print(\"Attack has been deployed\")\n",
    "            print(f\"Decoy file modified: {event.src_path}\")\n",
    "            \n",
    "        \n",
    "            send_alert(\"Alert !! - Ransomware ( Data Modified) \",\"A Ransomware attack had been initiated and data has been modified\")\n",
    "            self.observer.stop()  \n",
    "\n",
    "    def on_deleted(self, event):\n",
    "        if event.src_path.startswith(DECoy_DIRECTORY):\n",
    "            print(f\"Decoy file deleted: {event.src_path}\")\n",
    "            send_alert(\"Alert !! - Ransomware ( File Deleted) \",\"A Ransomware attack had been initiated and data has been Deleted\")\n",
    "            self.observer.stop()  \n",
    "\n",
    "event_handler = DecoyFileEventHandler(observer=Observer())\n",
    "observer = event_handler.observer\n",
    "observer.schedule(event_handler, path=DECoy_DIRECTORY, recursive=False)\n",
    "observer.start()\n",
    "\n",
    "try:\n",
    "    observer.join()  \n",
    "except KeyboardInterrupt:\n",
    "    observer.stop()\n",
    "    observer.join()\n"
   ]
  },
  {
   "cell_type": "code",
   "execution_count": null,
   "id": "c2086ab6",
   "metadata": {},
   "outputs": [],
   "source": []
  }
 ],
 "metadata": {
  "kernelspec": {
   "display_name": "Python 3",
   "language": "python",
   "name": "python3"
  },
  "language_info": {
   "codemirror_mode": {
    "name": "ipython",
    "version": 3
   },
   "file_extension": ".py",
   "mimetype": "text/x-python",
   "name": "python",
   "nbconvert_exporter": "python",
   "pygments_lexer": "ipython3",
   "version": "3.6.4"
  }
 },
 "nbformat": 4,
 "nbformat_minor": 5
}
